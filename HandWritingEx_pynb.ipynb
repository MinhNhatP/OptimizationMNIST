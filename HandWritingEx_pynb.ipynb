{
  "cells": [
    {
      "cell_type": "markdown",
      "metadata": {
        "colab_type": "text",
        "id": "view-in-github"
      },
      "source": [
        "<a href=\"https://colab.research.google.com/github/MinhNhatP/learningAI/blob/main/HandWritingEx_pynb.ipynb\" target=\"_parent\"><img src=\"https://colab.research.google.com/assets/colab-badge.svg\" alt=\"Open In Colab\"/></a>"
      ]
    },
    {
      "cell_type": "code",
      "execution_count": null,
      "metadata": {
        "id": "dxDWGrxTdZgl"
      },
      "outputs": [],
      "source": [
        "# Trần Tuấn Kiệt\n",
        "# Phan Minh Nhật"
      ]
    },
    {
      "cell_type": "code",
      "execution_count": null,
      "metadata": {
        "colab": {
          "base_uri": "https://localhost:8080/"
        },
        "id": "1nQQ_v4f4HNY",
        "outputId": "54346bb9-d6ef-42b0-c4dc-5dedddc16595"
      },
      "outputs": [
        {
          "name": "stdout",
          "output_type": "stream",
          "text": [
            "Downloading data from https://storage.googleapis.com/tensorflow/tf-keras-datasets/mnist.npz\n",
            "11490434/11490434 [==============================] - 1s 0us/step\n",
            "(60000, 784)\n",
            "(60000, 10)\n"
          ]
        }
      ],
      "source": [
        "import numpy as np\n",
        "import tensorflow as tf\n",
        "import matplotlib.pyplot as plt\n",
        "\n",
        "mnist = tf.keras.datasets.mnist\n",
        "(x_train, y_train), (x_test, y_test) = mnist.load_data()\n",
        "\n",
        "# Normalizing the MNIST dataset\n",
        "x_train = np.reshape(x_train, (60000,784))/255.0\n",
        "x_test = np.reshape(x_test, (10000,784))/255.0\n",
        "y_train = np.matrix(np.eye(10)[y_train])\n",
        "y_test = np.matrix(np.eye(10)[y_test])\n",
        "\n",
        "# Input 784 nodes (28x28 pixel)\n",
        "print(x_train.shape)\n",
        "\n",
        "# 10 output nodes represent digital numbers ranging from 0 to 9.\n",
        "print(y_train.shape)"
      ]
    },
    {
      "cell_type": "code",
      "execution_count": null,
      "metadata": {
        "id": "RC9KScKb4CBQ"
      },
      "outputs": [],
      "source": [
        "# Define active function.\n",
        "def relu(x):\n",
        "    return (np.maximum(x, 0))\n",
        "def sigmoid(x):\n",
        "    return 1./(1.+np.exp(-x))\n",
        "def softmax(x):\n",
        "    return np.divide(np.matrix(np.exp(x)),np.mat(np.sum(np.exp(x),axis=1)))\n",
        "def gradient_relu(x):\n",
        "  temp = x\n",
        "  temp[temp >= 0] = 1\n",
        "  temp[temp < 0] = 0\n",
        "  return temp\n"
      ]
    },
    {
      "cell_type": "code",
      "execution_count": null,
      "metadata": {
        "id": "JXiZkP6ZP9nI"
      },
      "outputs": [],
      "source": [
        "def dropOutMask(node, probability):\n",
        "  temp = np.random.choice(2, (200,512), p = [probability, 1-probability])\n",
        "  return temp*0.5"
      ]
    },
    {
      "cell_type": "code",
      "execution_count": null,
      "metadata": {
        "id": "qmqvPOJb5wdQ"
      },
      "outputs": [],
      "source": [
        "def Forwardpass(X,Wh1,bh1,Wh2,bh2,Wo,bo):\n",
        "    zh1 = X@Wh1.T + bh1\n",
        "    a = sigmoid(zh1) # output of layer 1\n",
        "    \n",
        "    zh2 = a@Wh2.T + bh2 \n",
        "    b = sigmoid(zh2) # output of layer 2\n",
        "    \n",
        "    z = b@Wo.T + bo\n",
        "    o = softmax(z)\n",
        "    return o\n",
        "\n",
        "def AccTest(label,prediction): # calculate the matching score\n",
        "    OutMaxArg = np.argmax(prediction,axis=1)\n",
        "    LabelMaxArg = np.argmax(label,axis=1)\n",
        "    Accuracy = np.mean(OutMaxArg == LabelMaxArg)\n",
        "    return Accuracy"
      ]
    },
    {
      "cell_type": "code",
      "execution_count": null,
      "metadata": {
        "colab": {
          "base_uri": "https://localhost:8080/"
        },
        "id": "JB6aja5o7a7K",
        "outputId": "8a488569-d6e6-493f-be54-05f76f656fac"
      },
      "outputs": [
        {
          "name": "stdout",
          "output_type": "stream",
          "text": [
            "(512, 784)\n",
            "(512, 512)\n",
            "(10, 512)\n"
          ]
        }
      ],
      "source": [
        "learningRate = 0.5\n",
        "Epoch = 10\n",
        "NumTrainSamples = 60000\n",
        "NumTestSamples = 10000\n",
        "NumInputs = 784\n",
        "NumHiddenUnits = 512\n",
        "NumClasses = 10\n",
        "\n",
        "#inital weights\n",
        "\n",
        "#hidden layer 1\n",
        "Wh1 = np.matrix(np.random.uniform(-0.5,0.5,(NumHiddenUnits,NumInputs)))\n",
        "bh1 = np.random.uniform(0,0.5,(1,NumHiddenUnits))\n",
        "dWh1 = np.zeros((NumHiddenUnits,NumInputs))\n",
        "dbh1 = np.zeros((1,NumHiddenUnits))\n",
        "\n",
        "print(np.shape(Wh1))\n",
        "\n",
        "\n",
        "#hidden layer 2\n",
        "Wh2 = np.matrix(np.random.uniform(-0.5,0.5,(NumHiddenUnits,NumHiddenUnits)))\n",
        "bh2 = np.random.uniform(0,0.5,(1,NumHiddenUnits))\n",
        "dWh2 = np.zeros((NumHiddenUnits,NumHiddenUnits))\n",
        "dbh2 = np.zeros((1,NumHiddenUnits))\n",
        "\n",
        "print(np.shape(Wh2))\n",
        "\n",
        "#Output layer\n",
        "Wo = np.random.uniform(-0.5,0.5,(NumClasses,NumHiddenUnits))\n",
        "bo = np.random.uniform(0,0.5,(1,NumClasses))\n",
        "dWo = np.zeros((NumClasses,NumHiddenUnits))\n",
        "dbo = np.zeros((1,NumClasses))\n",
        "\n",
        "print(np.shape(Wo))"
      ]
    },
    {
      "cell_type": "code",
      "execution_count": null,
      "metadata": {
        "colab": {
          "base_uri": "https://localhost:8080/",
          "height": 430
        },
        "id": "vdI9dyLvPP1S",
        "outputId": "697b644b-3a39-4a59-9677-374791cbb3eb"
      },
      "outputs": [
        {
          "data": {
            "image/png": "[encoded data removed]",
            "text/plain": [
              "<Figure size 640x480 with 1 Axes>"
            ]
          },
          "metadata": {},
          "output_type": "display_data"
        }
      ],
      "source": [
        "#adaptive\n",
        "from IPython.display import clear_output\n",
        "\n",
        "Epoch = 10\n",
        "Batch_size = 200\n",
        "learningRate = 0.01\n",
        "epsilon = 1e-8  # small value added to denominator for numerical stability\n",
        "\n",
        "loss = []\n",
        "Acc = []\n",
        "\n",
        "# Initialize the gradients and the accumulated gradient squared values for all weights and biases to zero\n",
        "grad_squared_sum_Wh1 = 0\n",
        "grad_squared_sum_bh1 = 0\n",
        "grad_squared_sum_Wh2 = 0\n",
        "grad_squared_sum_bh2 = 0\n",
        "grad_squared_sum_Wo = 0\n",
        "grad_squared_sum_bo = 0\n",
        "\n",
        "Stochastic_samples = np.arange(NumTrainSamples)\n",
        "\n",
        "for ep in range(Epoch):\n",
        "    \n",
        "    np.random.shuffle(Stochastic_samples)\n",
        "    \n",
        "    for ite in range(0, NumTrainSamples, Batch_size):\n",
        "        \n",
        "        #feed forward propagation\n",
        "        Batch_samples = Stochastic_samples[ite:ite+Batch_size]\n",
        "        x = x_train[Batch_samples,:]\n",
        "        y = y_train[Batch_samples,:]\n",
        "        \n",
        "        zh1 = x @ Wh1.T + bh1\n",
        "        a = sigmoid(zh1)\n",
        "\n",
        "        zh2 = a @ Wh2.T + bh2\n",
        "        b = sigmoid(zh2)\n",
        "\n",
        "        z = b @ Wo.T + bo\n",
        "        o = softmax(z)\n",
        "\n",
        "        #calculate loss\n",
        "        loss.append(-np.sum(np.multiply(y, np.log10(o))))\n",
        "        \n",
        "        #calculate the error for the output layer\n",
        "        d = o - y\n",
        "        \n",
        "        #back propagate error\n",
        "        dh2 = d @ Wo\n",
        "        dhs2 = np.multiply(np.multiply(dh2, b), (1 - b))\n",
        "\n",
        "        dh1 = dhs2 @ Wh2\n",
        "        dhs1 = np.multiply(np.multiply(dh1, a), (1 - a))\n",
        "\n",
        "        #calculate gradients\n",
        "        dWo = np.matmul(np.transpose(d), b)\n",
        "        dbo = np.mean(d, axis=0)\n",
        "\n",
        "        dWh2 = np.matmul(np.transpose(dhs2), a)\n",
        "        dbh2 = np.mean(dhs2, axis=0)\n",
        "\n",
        "        dWh1 = np.matmul(np.transpose(dhs1), x)\n",
        "        dbh1 = np.mean(dhs1, axis=0)\n",
        "\n",
        "        #accumulate the square of the gradients for each weight and bias\n",
        "        grad_squared_sum_Wh1 += np.square(dWh1)\n",
        "        grad_squared_sum_bh1 += np.square(dbh1)\n",
        "        grad_squared_sum_Wh2 += np.square(dWh2)\n",
        "        grad_squared_sum_bh2 += np.square(dbh2)\n",
        "        grad_squared_sum_Wo += np.square(dWo)\n",
        "        grad_squared_sum_bo += np.square(dbo)\n",
        "\n",
        "        #update weights and biases using Adagrad\n",
        "        Wo -= learningRate * dWo / (np.sqrt(grad_squared_sum_Wo) + epsilon)\n",
        "        bo -= learningRate * dbo / (np.sqrt(grad_squared_sum_bo) + epsilon)\n",
        "        Wh2 -= learningRate * dWh2 / (np.sqrt(grad_squared_sum_Wh2) + epsilon)\n",
        "        bh2 -= learningRate * dbh2 / (np.sqrt(grad_squared_sum_bh2) + epsilon)\n",
        "        Wh1 -= learningRate * dWh1 / (np.sqrt(grad_squared_sum_Wh1) + epsilon)\n",
        "        bh1 -= learningRate * dbh1 / (np.sqrt(grad_squared_sum_bh1) + epsilon)\n",
        "    \n",
        "      #Test accuracy with random innitial weights\n",
        "    prediction = Forwardpass(x_test,Wh1,bh1,Wh2,bh2,Wo,bo)\n",
        "    Acc.append(AccTest(y_test,prediction))\n",
        "    clear_output(wait=True)\n",
        "    plt.plot([i for i, _ in enumerate(Acc)],Acc,'o')\n",
        "    plt.show()"
      ]
    },
    {
      "cell_type": "code",
      "execution_count": null,
      "metadata": {
        "colab": {
          "base_uri": "https://localhost:8080/",
          "height": 430
        },
        "id": "6aHxGBY1GcGS",
        "outputId": "ba14d24e-235a-4034-d537-599f187bcf64"
      },
      "outputs": [
        {
          "data": {
            "image/png": "[encoded data removed]",
            "text/plain": [
              "<Figure size 640x480 with 1 Axes>"
            ]
          },
          "metadata": {},
          "output_type": "display_data"
        }
      ],
      "source": [
        "# momentum\n",
        "from IPython.display import clear_output\n",
        "Epoch = 10\n",
        "loss = []\n",
        "Acc = []\n",
        "Batch_size = 200\n",
        "Stochastic_samples = np.arange(NumTrainSamples)\n",
        "learningRate = 0.9\n",
        "\n",
        "dWo_Before = dWo.copy()\n",
        "dWh1_Before = dWh1.copy()\n",
        "dWh2_Before = dWh2.copy()\n",
        "dbo_Before = dbo.copy()\n",
        "dbh1_Before = dbh1.copy()\n",
        "dbh2_Before = dbh2.copy()\n",
        "\n",
        "for ep in range (Epoch):\n",
        "  np.random.shuffle(Stochastic_samples)\n",
        "  for ite in range(0,NumTrainSamples,Batch_size): \n",
        "    #feed fordware propagation\n",
        "    Batch_samples = Stochastic_samples[ite:ite+Batch_size]\n",
        "    x = x_train[Batch_samples,:]\n",
        "    y = y_train[Batch_samples,:]\n",
        "\n",
        "    zh1 = x@Wh1.T + bh1\n",
        "    a = sigmoid(zh1)\n",
        "\n",
        "    zh2 = a@Wh2.T + bh2\n",
        "    b = sigmoid(zh2)\n",
        "\n",
        "    z = b@Wo.T + bo\n",
        "    o = softmax(z)\n",
        "\n",
        "    #calculate loss\n",
        "    loss.append(-np.sum(np.multiply(y,np.log10(o))))\n",
        "    #calculate the error for the ouput layer\n",
        "    d = o-y\n",
        "    #Back propagate error\n",
        "    dh2 = d@Wo\n",
        "    dhs2 = np.multiply(np.multiply(dh2,b),(1-b))\n",
        "\n",
        "    dh1 = dhs2@Wh2\n",
        "    dhs1 = np.multiply(np.multiply(dh1,a),(1-a))\n",
        "       \n",
        "    # Update weight \n",
        "    dWo = np.matmul(np.transpose(d),b)\n",
        "    dbo = np.mean(d) \n",
        "\n",
        "    dWh2 = np.matmul(np.transpose(dhs2),a)\n",
        "    dbh2 = np.mean(dhs1)\n",
        "    dWh1 = np.matmul(np.transpose(dhs1),x)\n",
        "    dbh1 = np.mean(dhs2) # consider a is 1 for bias\n",
        "\n",
        "    #update weights and biases using momentum\n",
        "    Wo = Wo - (learningRate*dWo+dWo_Before*0.9)/Batch_size\n",
        "    bo = bo - (learningRate* dbo+0.9*dbo_Before)\n",
        "    Wh2 = Wh2 - (learningRate*dWh2+dWh2_Before*0.9)/Batch_size\n",
        "    bh2 = bh2 - (learningRate*dbh2+0.9*dbh2_Before)\n",
        "    Wh1 = Wh1 - (learningRate*dWh1+dWh1_Before*0.9)/Batch_size\n",
        "    bh1 = bh1 - (learningRate*dbh1+0.9*dbh1_Before)\n",
        "    #Test accuracy with random innitial weights\n",
        "  prediction = Forwardpass(x_test,Wh1,bh1,Wh2,bh2,Wo,bo)\n",
        "  Acc.append(AccTest(y_test,prediction))\n",
        "  clear_output(wait=True)\n",
        "  plt.plot([i for i, _ in enumerate(Acc)],Acc,'x')\n",
        "  plt.show()"
      ]
    },
    {
      "cell_type": "code",
      "execution_count": null,
      "metadata": {
        "colab": {
          "base_uri": "https://localhost:8080/"
        },
        "id": "iYtbGD4PE2T0",
        "outputId": "38f28e7e-dc9b-4143-e6e3-d6a489825e74"
      },
      "outputs": [
        {
          "name": "stdout",
          "output_type": "stream",
          "text": [
            "0.9785\n"
          ]
        }
      ],
      "source": [
        "prediction = Forwardpass(x_test,Wh1,bh1,Wh2, bh2, Wo,bo)\n",
        "Rate = AccTest(y_test, prediction)\n",
        "print(Rate)"
      ]
    },
    {
      "cell_type": "code",
      "execution_count": null,
      "metadata": {
        "colab": {
          "base_uri": "https://localhost:8080/",
          "height": 430
        },
        "id": "qjok2jwaLrwB",
        "outputId": "e1da304a-69d9-42e7-fff7-91b3d2906e0f"
      },
      "outputs": [
        {
          "data": {
            "image/png": "[encoded data removed]",
            "text/plain": [
              "<Figure size 640x480 with 1 Axes>"
            ]
          },
          "metadata": {},
          "output_type": "display_data"
        }
      ],
      "source": [
        "#dropout\n",
        "from traitlets.traitlets import Undefined\n",
        "from IPython.display import clear_output\n",
        "Epoch = 10\n",
        "loss = []\n",
        "Acc = []\n",
        "learningRate = 0.1\n",
        "Batch_size = 200\n",
        "dropOutProp = 0.5\n",
        "Stochastic_samples = np.arange(NumTrainSamples)\n",
        "for ep in range (Epoch):\n",
        "  np.random.shuffle(Stochastic_samples)\n",
        "  for ite in range(0,NumTrainSamples,Batch_size): \n",
        "    #making mask\n",
        "    a_mask = dropOutMask((200,512), dropOutProp)\n",
        "    b_mask = dropOutMask((200,512), dropOutProp)\n",
        "    #feed fordware propagation\n",
        "    Batch_samples = Stochastic_samples[ite:ite+Batch_size]\n",
        "    x = x_train[Batch_samples,:]\n",
        "    y = y_train[Batch_samples,:]\n",
        "\n",
        "    zh1 = x@Wh1.T + bh1\n",
        "    a_temp = sigmoid(zh1)\n",
        "    a = np.multiply(a_mask,a_temp)  #update mask\n",
        "\n",
        "    zh2 = a@Wh2.T + bh2\n",
        "    b_temp = sigmoid(zh2)\n",
        "    b = np.multiply(b_mask,b_temp)  #update mask\n",
        "\n",
        "    z = b@Wo.T + bo\n",
        "    o = softmax(z)\n",
        "\n",
        "    #calculate loss\n",
        "    loss.append(-np.sum(np.multiply(y,np.log10(o))))\n",
        "    #calculate the error for the ouput layer\n",
        "    d = o-y\n",
        "    #Back propagate error\n",
        "    dh2 = d@Wo\n",
        "    dhs2 = np.multiply(np.multiply(dh2,b),(1-b))\n",
        "\n",
        "    dh1 = dhs2@Wh2\n",
        "    dhs1 = np.multiply(np.multiply(dh1,a),(1-a))\n",
        "       \n",
        "    # Update weight \n",
        "    dWo = np.matmul(np.transpose(d),b)\n",
        "    dbo = np.mean(d) \n",
        "\n",
        "    dWh2 = np.matmul(np.transpose(dhs2),a)\n",
        "    dbh2 = np.mean(dhs1)\n",
        "    dWh1= np.matmul(np.transpose(dhs1),x)\n",
        "    dbh1= np.mean(dhs2) # consider a is 1 for bias\n",
        "    Wo = Wo - learningRate * dWo / Batch_size\n",
        "    bo = bo - learningRate * dbo\n",
        "\n",
        "    Wh2 = Wh2 - learningRate * dWh2 / Batch_size\n",
        "    bh2 = bh2 - learningRate * dbh2\n",
        "\n",
        "    Wh1 = Wh1 - learningRate * dWh1 / Batch_size\n",
        "    bh1 = bh1 - learningRate * dbh1\n",
        "    #Test accuracy with random innitial weights\n",
        "  prediction = Forwardpass(x_test,Wh1,bh1,Wh2,bh2,Wo,bo)\n",
        "  Acc.append(AccTest(y_test,prediction))\n",
        "  clear_output(wait=True)\n",
        "  plt.plot([i for i, _ in enumerate(Acc)],Acc,'x')\n",
        "  plt.show()"
      ]
    },
    {
      "cell_type": "code",
      "execution_count": null,
      "metadata": {
        "colab": {
          "base_uri": "https://localhost:8080/",
          "height": 430
        },
        "id": "GktOlsQ1Baor",
        "outputId": "1953b8a3-23c3-4c45-eaed-44a85c80caeb"
      },
      "outputs": [
        {
          "data": {
            "image/png": "[encoded data removed]",
            "text/plain": [
              "<Figure size 640x480 with 1 Axes>"
            ]
          },
          "metadata": {},
          "output_type": "display_data"
        }
      ],
      "source": [
        "# 2 sigmoid\n",
        "from IPython.display import clear_output\n",
        "Epoch = 10\n",
        "loss = []\n",
        "Acc = []\n",
        "Batch_size = 200\n",
        "Stochastic_samples = np.arange(NumTrainSamples)\n",
        "for ep in range (Epoch):\n",
        "  np.random.shuffle(Stochastic_samples)\n",
        "  for ite in range(0,NumTrainSamples,Batch_size): \n",
        "    #feed fordware propagation\n",
        "    Batch_samples = Stochastic_samples[ite:ite+Batch_size]\n",
        "    x = x_train[Batch_samples,:]\n",
        "    y = y_train[Batch_samples,:]\n",
        "\n",
        "    zh1 = x@Wh1.T + bh1\n",
        "    a = sigmoid(zh1)\n",
        "\n",
        "    zh2 = a@Wh2.T + bh2\n",
        "    b = sigmoid(zh2)\n",
        "\n",
        "    z = b@Wo.T + bo\n",
        "    o = softmax(z)\n",
        "\n",
        "    #calculate loss\n",
        "    loss.append(-np.sum(np.multiply(y,np.log10(o))))\n",
        "    #calculate the error for the ouput layer\n",
        "    d = o-y\n",
        "    #Back propagate error\n",
        "    dh2 = d@Wo\n",
        "    dhs2 = np.multiply(np.multiply(dh2,b),(1-b))\n",
        "\n",
        "    dh1 = dhs2@Wh2\n",
        "    dhs1 = np.multiply(np.multiply(dh1,a),(1-a))\n",
        "       \n",
        "    # Update weight \n",
        "    dWo = np.matmul(np.transpose(d),b)\n",
        "    dbo = np.mean(d) \n",
        "\n",
        "    dWh2 = np.matmul(np.transpose(dhs2),a)\n",
        "    dbh2 = np.mean(dhs1)\n",
        "    dWh1= np.matmul(np.transpose(dhs1),x)\n",
        "    dbh1= np.mean(dhs2) # consider a is 1 for bias\n",
        "    Wo = Wo - learningRate * dWo / Batch_size\n",
        "    bo = bo - learningRate * dbo\n",
        "\n",
        "    Wh2 = Wh2 - learningRate * dWh2 / Batch_size\n",
        "    bh2 = bh2 - learningRate * dbh2\n",
        "\n",
        "    Wh1 = Wh1 - learningRate * dWh1 / Batch_size\n",
        "    bh1 = bh1 - learningRate * dbh1\n",
        "    #Test accuracy with random innitial weights\n",
        "  prediction = Forwardpass(x_test,Wh1,bh1,Wh2,bh2,Wo,bo)\n",
        "  Acc.append(AccTest(y_test,prediction))\n",
        "  clear_output(wait=True)\n",
        "  plt.plot([i for i, _ in enumerate(Acc)],Acc,'x')\n",
        "  plt.show()"
      ]
    },
    {
      "cell_type": "code",
      "execution_count": null,
      "metadata": {
        "colab": {
          "base_uri": "https://localhost:8080/",
          "height": 430
        },
        "id": "YjJ1zR1H7f7k",
        "outputId": "78e409ea-16e8-47fd-a44e-b3e0e3e1e472"
      },
      "outputs": [
        {
          "data": {
            "image/png": "[encoded data removed]",
            "text/plain": [
              "<Figure size 640x480 with 1 Axes>"
            ]
          },
          "metadata": {},
          "output_type": "display_data"
        }
      ],
      "source": [
        "# 1 relu & 1 sigmoid\n",
        "from IPython.display import clear_output\n",
        "Epoch = 10\n",
        "loss = []\n",
        "Acc = []\n",
        "Batch_size = 200\n",
        "Stochastic_samples = np.arange(NumTrainSamples)\n",
        "for ep in range (Epoch):\n",
        "  np.random.shuffle(Stochastic_samples)\n",
        "  for ite in range(0,NumTrainSamples,Batch_size): \n",
        "    #feed fordware propagation\n",
        "    Batch_samples = Stochastic_samples[ite:ite+Batch_size]\n",
        "    x = x_train[Batch_samples,:]\n",
        "    y=y_train[Batch_samples,:]\n",
        "\n",
        "    zh1 = x@Wh1.T + bh1\n",
        "    a = sigmoid(zh1)\n",
        "\n",
        "    zh2 = a@Wh2.T + bh2\n",
        "    b = relu(zh2)\n",
        "\n",
        "    z = b@Wo.T + bo\n",
        "    o = softmax(z)\n",
        "\n",
        "    #calculate loss\n",
        "    loss.append(-np.sum(np.multiply(y,np.log10(o))))\n",
        "    #calculate the error for the ouput layer\n",
        "    d = o-y\n",
        "    #Back propagate error\n",
        "    dh2 = d@Wo\n",
        "    dhs2 = np.multiply(np.multiply(dh2,b),(1-b))\n",
        "\n",
        "    dh1 = dhs2@Wh2\n",
        "    dhs1 = np.multiply(dh1, gradient_relu(a))\n",
        "    # Update weight \n",
        "    dWo = np.matmul(np.transpose(d),b)\n",
        "    dbo = np.mean(d) \n",
        "\n",
        "    dWh2 = np.matmul(np.transpose(dhs2),a)\n",
        "    dbh2 = np.mean(dhs1)\n",
        "    dWh1 = np.matmul(np.transpose(dhs1),x)\n",
        "    dbh1 = np.mean(dhs2) # consider a is 1 for bias\n",
        "    Wo = Wo - learningRate * dWo / Batch_size\n",
        "    bo = bo - learningRate * dbo\n",
        "\n",
        "    Wh2 = Wh2 - learningRate * dWh2 / Batch_size\n",
        "    bh2 = bh2 - learningRate * dbh2\n",
        "\n",
        "    Wh1 = Wh1 - learningRate * dWh1 / Batch_size\n",
        "    bh1 = bh1 - learningRate * dbh1\n",
        "    #Test accuracy with random innitial weights\n",
        "  prediction = Forwardpass(x_test,Wh1,bh1,Wh2,bh2,Wo,bo)\n",
        "  Acc.append(AccTest(y_test,prediction))\n",
        "  clear_output(wait=True)\n",
        "  plt.plot([i for i, _ in enumerate(Acc)],Acc,'x')\n",
        "  plt.show()"
      ]
    }
  ],
  "metadata": {
    "colab": {
      "authorship_tag": "ABX9TyNEJs+lwT4zxWqUaycZZsqL",
      "include_colab_link": true,
      "provenance": []
    },
    "kernelspec": {
      "display_name": "Python 3",
      "name": "python3"
    },
    "language_info": {
      "name": "python"
    }
  },
  "nbformat": 4,
  "nbformat_minor": 0
}
